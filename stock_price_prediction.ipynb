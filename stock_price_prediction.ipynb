{
 "cells": [
  {
   "cell_type": "markdown",
   "metadata": {},
   "source": [
    "# Tesla Stock Price and Forecasting\n",
    "This project use tesla's stock price data to predict and forecast future stock price using a deep learning technique, ***Stacked LSTM***."
   ]
  },
  {
   "cell_type": "code",
   "execution_count": 37,
   "metadata": {},
   "outputs": [],
   "source": [
    "import pandas as pd\n",
    "import numpy as np\n",
    "import matplotlib.pyplot as plt\n",
    "import seaborn as sns\n",
    "\n",
    "plt.style.use(\"fivethirtyeight\")"
   ]
  },
  {
   "cell_type": "code",
   "execution_count": 9,
   "metadata": {},
   "outputs": [
    {
     "data": {
      "text/html": [
       "<div>\n",
       "<style scoped>\n",
       "    .dataframe tbody tr th:only-of-type {\n",
       "        vertical-align: middle;\n",
       "    }\n",
       "\n",
       "    .dataframe tbody tr th {\n",
       "        vertical-align: top;\n",
       "    }\n",
       "\n",
       "    .dataframe thead th {\n",
       "        text-align: right;\n",
       "    }\n",
       "</style>\n",
       "<table border=\"1\" class=\"dataframe\">\n",
       "  <thead>\n",
       "    <tr style=\"text-align: right;\">\n",
       "      <th></th>\n",
       "      <th>Date</th>\n",
       "      <th>Open</th>\n",
       "      <th>High</th>\n",
       "      <th>Low</th>\n",
       "      <th>Close</th>\n",
       "      <th>Adj Close</th>\n",
       "      <th>Volume</th>\n",
       "    </tr>\n",
       "  </thead>\n",
       "  <tbody>\n",
       "    <tr>\n",
       "      <th>0</th>\n",
       "      <td>2021-01-04</td>\n",
       "      <td>719.460022</td>\n",
       "      <td>744.489990</td>\n",
       "      <td>717.190002</td>\n",
       "      <td>729.770020</td>\n",
       "      <td>729.770020</td>\n",
       "      <td>48638200</td>\n",
       "    </tr>\n",
       "    <tr>\n",
       "      <th>1</th>\n",
       "      <td>2021-01-05</td>\n",
       "      <td>723.659973</td>\n",
       "      <td>740.840027</td>\n",
       "      <td>719.200012</td>\n",
       "      <td>735.109985</td>\n",
       "      <td>735.109985</td>\n",
       "      <td>32245200</td>\n",
       "    </tr>\n",
       "    <tr>\n",
       "      <th>2</th>\n",
       "      <td>2021-01-06</td>\n",
       "      <td>758.489990</td>\n",
       "      <td>774.000000</td>\n",
       "      <td>749.099976</td>\n",
       "      <td>755.979980</td>\n",
       "      <td>755.979980</td>\n",
       "      <td>44700000</td>\n",
       "    </tr>\n",
       "    <tr>\n",
       "      <th>3</th>\n",
       "      <td>2021-01-07</td>\n",
       "      <td>777.630005</td>\n",
       "      <td>816.989990</td>\n",
       "      <td>775.200012</td>\n",
       "      <td>816.039978</td>\n",
       "      <td>816.039978</td>\n",
       "      <td>51498900</td>\n",
       "    </tr>\n",
       "    <tr>\n",
       "      <th>4</th>\n",
       "      <td>2021-01-08</td>\n",
       "      <td>856.000000</td>\n",
       "      <td>884.489990</td>\n",
       "      <td>838.390015</td>\n",
       "      <td>880.020020</td>\n",
       "      <td>880.020020</td>\n",
       "      <td>75055500</td>\n",
       "    </tr>\n",
       "  </tbody>\n",
       "</table>\n",
       "</div>"
      ],
      "text/plain": [
       "         Date        Open        High         Low       Close   Adj Close  \\\n",
       "0  2021-01-04  719.460022  744.489990  717.190002  729.770020  729.770020   \n",
       "1  2021-01-05  723.659973  740.840027  719.200012  735.109985  735.109985   \n",
       "2  2021-01-06  758.489990  774.000000  749.099976  755.979980  755.979980   \n",
       "3  2021-01-07  777.630005  816.989990  775.200012  816.039978  816.039978   \n",
       "4  2021-01-08  856.000000  884.489990  838.390015  880.020020  880.020020   \n",
       "\n",
       "     Volume  \n",
       "0  48638200  \n",
       "1  32245200  \n",
       "2  44700000  \n",
       "3  51498900  \n",
       "4  75055500  "
      ]
     },
     "execution_count": 9,
     "metadata": {},
     "output_type": "execute_result"
    }
   ],
   "source": [
    "df = pd.read_csv(\"./data/TSLA.csv\")\n",
    "df.head()"
   ]
  },
  {
   "cell_type": "markdown",
   "metadata": {},
   "source": [
    "Its required to transform `Date` column to ***datetime*** object to be able to analyze the data and forecasting."
   ]
  },
  {
   "cell_type": "code",
   "execution_count": 12,
   "metadata": {},
   "outputs": [
    {
     "data": {
      "text/plain": [
       "Date          object\n",
       "Open         float64\n",
       "High         float64\n",
       "Low          float64\n",
       "Close        float64\n",
       "Adj Close    float64\n",
       "Volume         int64\n",
       "dtype: object"
      ]
     },
     "execution_count": 12,
     "metadata": {},
     "output_type": "execute_result"
    }
   ],
   "source": [
    "df.dtypes"
   ]
  },
  {
   "cell_type": "code",
   "execution_count": 14,
   "metadata": {},
   "outputs": [
    {
     "data": {
      "text/html": [
       "<div>\n",
       "<style scoped>\n",
       "    .dataframe tbody tr th:only-of-type {\n",
       "        vertical-align: middle;\n",
       "    }\n",
       "\n",
       "    .dataframe tbody tr th {\n",
       "        vertical-align: top;\n",
       "    }\n",
       "\n",
       "    .dataframe thead th {\n",
       "        text-align: right;\n",
       "    }\n",
       "</style>\n",
       "<table border=\"1\" class=\"dataframe\">\n",
       "  <thead>\n",
       "    <tr style=\"text-align: right;\">\n",
       "      <th></th>\n",
       "      <th>Date</th>\n",
       "      <th>Open</th>\n",
       "      <th>High</th>\n",
       "      <th>Low</th>\n",
       "      <th>Close</th>\n",
       "      <th>Adj Close</th>\n",
       "      <th>Volume</th>\n",
       "    </tr>\n",
       "  </thead>\n",
       "  <tbody>\n",
       "    <tr>\n",
       "      <th>0</th>\n",
       "      <td>2021-01-04</td>\n",
       "      <td>719.460022</td>\n",
       "      <td>744.489990</td>\n",
       "      <td>717.190002</td>\n",
       "      <td>729.770020</td>\n",
       "      <td>729.770020</td>\n",
       "      <td>48638200</td>\n",
       "    </tr>\n",
       "    <tr>\n",
       "      <th>1</th>\n",
       "      <td>2021-01-05</td>\n",
       "      <td>723.659973</td>\n",
       "      <td>740.840027</td>\n",
       "      <td>719.200012</td>\n",
       "      <td>735.109985</td>\n",
       "      <td>735.109985</td>\n",
       "      <td>32245200</td>\n",
       "    </tr>\n",
       "    <tr>\n",
       "      <th>2</th>\n",
       "      <td>2021-01-06</td>\n",
       "      <td>758.489990</td>\n",
       "      <td>774.000000</td>\n",
       "      <td>749.099976</td>\n",
       "      <td>755.979980</td>\n",
       "      <td>755.979980</td>\n",
       "      <td>44700000</td>\n",
       "    </tr>\n",
       "    <tr>\n",
       "      <th>3</th>\n",
       "      <td>2021-01-07</td>\n",
       "      <td>777.630005</td>\n",
       "      <td>816.989990</td>\n",
       "      <td>775.200012</td>\n",
       "      <td>816.039978</td>\n",
       "      <td>816.039978</td>\n",
       "      <td>51498900</td>\n",
       "    </tr>\n",
       "    <tr>\n",
       "      <th>4</th>\n",
       "      <td>2021-01-08</td>\n",
       "      <td>856.000000</td>\n",
       "      <td>884.489990</td>\n",
       "      <td>838.390015</td>\n",
       "      <td>880.020020</td>\n",
       "      <td>880.020020</td>\n",
       "      <td>75055500</td>\n",
       "    </tr>\n",
       "  </tbody>\n",
       "</table>\n",
       "</div>"
      ],
      "text/plain": [
       "        Date        Open        High         Low       Close   Adj Close  \\\n",
       "0 2021-01-04  719.460022  744.489990  717.190002  729.770020  729.770020   \n",
       "1 2021-01-05  723.659973  740.840027  719.200012  735.109985  735.109985   \n",
       "2 2021-01-06  758.489990  774.000000  749.099976  755.979980  755.979980   \n",
       "3 2021-01-07  777.630005  816.989990  775.200012  816.039978  816.039978   \n",
       "4 2021-01-08  856.000000  884.489990  838.390015  880.020020  880.020020   \n",
       "\n",
       "     Volume  \n",
       "0  48638200  \n",
       "1  32245200  \n",
       "2  44700000  \n",
       "3  51498900  \n",
       "4  75055500  "
      ]
     },
     "execution_count": 14,
     "metadata": {},
     "output_type": "execute_result"
    }
   ],
   "source": [
    "df['Date'] = pd.to_datetime(df['Date'], format=\"%Y-%m-%d\")\n",
    "df.head()"
   ]
  },
  {
   "cell_type": "code",
   "execution_count": 34,
   "metadata": {},
   "outputs": [
    {
     "data": {
      "image/png": "[encoded data removed]",
      "text/plain": [
       "<Figure size 864x432 with 1 Axes>"
      ]
     },
     "metadata": {},
     "output_type": "display_data"
    }
   ],
   "source": [
    "plt.figure(figsize=([12,6]))\n",
    "sns.lineplot(data = df, x = 'Date', y = 'Close')\n",
    "plt.title(\"Tesla Stock Price\")\n",
    "plt.xlabel(\"Date\")\n",
    "plt.ylabel(\"Close\")\n",
    "plt.show()"
   ]
  },
  {
   "cell_type": "code",
   "execution_count": 15,
   "metadata": {},
   "outputs": [
    {
     "data": {
      "text/plain": [
       "Date         datetime64[ns]\n",
       "Open                float64\n",
       "High                float64\n",
       "Low                 float64\n",
       "Close               float64\n",
       "Adj Close           float64\n",
       "Volume                int64\n",
       "dtype: object"
      ]
     },
     "execution_count": 15,
     "metadata": {},
     "output_type": "execute_result"
    }
   ],
   "source": [
    "df.dtypes"
   ]
  },
  {
   "cell_type": "markdown",
   "metadata": {},
   "source": [
    "Now that the dtype was changed, we can set the indexes of the dataframe equal to `Date` column, this is done to be able to work easily with some tools for time series."
   ]
  },
  {
   "cell_type": "code",
   "execution_count": 17,
   "metadata": {},
   "outputs": [
    {
     "data": {
      "text/html": [
       "<div>\n",
       "<style scoped>\n",
       "    .dataframe tbody tr th:only-of-type {\n",
       "        vertical-align: middle;\n",
       "    }\n",
       "\n",
       "    .dataframe tbody tr th {\n",
       "        vertical-align: top;\n",
       "    }\n",
       "\n",
       "    .dataframe thead th {\n",
       "        text-align: right;\n",
       "    }\n",
       "</style>\n",
       "<table border=\"1\" class=\"dataframe\">\n",
       "  <thead>\n",
       "    <tr style=\"text-align: right;\">\n",
       "      <th></th>\n",
       "      <th>Open</th>\n",
       "      <th>High</th>\n",
       "      <th>Low</th>\n",
       "      <th>Close</th>\n",
       "      <th>Adj Close</th>\n",
       "      <th>Volume</th>\n",
       "    </tr>\n",
       "    <tr>\n",
       "      <th>Date</th>\n",
       "      <th></th>\n",
       "      <th></th>\n",
       "      <th></th>\n",
       "      <th></th>\n",
       "      <th></th>\n",
       "      <th></th>\n",
       "    </tr>\n",
       "  </thead>\n",
       "  <tbody>\n",
       "    <tr>\n",
       "      <th>2021-01-04</th>\n",
       "      <td>719.460022</td>\n",
       "      <td>744.489990</td>\n",
       "      <td>717.190002</td>\n",
       "      <td>729.770020</td>\n",
       "      <td>729.770020</td>\n",
       "      <td>48638200</td>\n",
       "    </tr>\n",
       "    <tr>\n",
       "      <th>2021-01-05</th>\n",
       "      <td>723.659973</td>\n",
       "      <td>740.840027</td>\n",
       "      <td>719.200012</td>\n",
       "      <td>735.109985</td>\n",
       "      <td>735.109985</td>\n",
       "      <td>32245200</td>\n",
       "    </tr>\n",
       "    <tr>\n",
       "      <th>2021-01-06</th>\n",
       "      <td>758.489990</td>\n",
       "      <td>774.000000</td>\n",
       "      <td>749.099976</td>\n",
       "      <td>755.979980</td>\n",
       "      <td>755.979980</td>\n",
       "      <td>44700000</td>\n",
       "    </tr>\n",
       "    <tr>\n",
       "      <th>2021-01-07</th>\n",
       "      <td>777.630005</td>\n",
       "      <td>816.989990</td>\n",
       "      <td>775.200012</td>\n",
       "      <td>816.039978</td>\n",
       "      <td>816.039978</td>\n",
       "      <td>51498900</td>\n",
       "    </tr>\n",
       "    <tr>\n",
       "      <th>2021-01-08</th>\n",
       "      <td>856.000000</td>\n",
       "      <td>884.489990</td>\n",
       "      <td>838.390015</td>\n",
       "      <td>880.020020</td>\n",
       "      <td>880.020020</td>\n",
       "      <td>75055500</td>\n",
       "    </tr>\n",
       "  </tbody>\n",
       "</table>\n",
       "</div>"
      ],
      "text/plain": [
       "                  Open        High         Low       Close   Adj Close  \\\n",
       "Date                                                                     \n",
       "2021-01-04  719.460022  744.489990  717.190002  729.770020  729.770020   \n",
       "2021-01-05  723.659973  740.840027  719.200012  735.109985  735.109985   \n",
       "2021-01-06  758.489990  774.000000  749.099976  755.979980  755.979980   \n",
       "2021-01-07  777.630005  816.989990  775.200012  816.039978  816.039978   \n",
       "2021-01-08  856.000000  884.489990  838.390015  880.020020  880.020020   \n",
       "\n",
       "              Volume  \n",
       "Date                  \n",
       "2021-01-04  48638200  \n",
       "2021-01-05  32245200  \n",
       "2021-01-06  44700000  \n",
       "2021-01-07  51498900  \n",
       "2021-01-08  75055500  "
      ]
     },
     "execution_count": 17,
     "metadata": {},
     "output_type": "execute_result"
    }
   ],
   "source": [
    "df.set_index(df['Date'], inplace=True)\n",
    "df.drop(\"Date\", axis=1, inplace=True)\n",
    "df.head()"
   ]
  },
  {
   "cell_type": "markdown",
   "metadata": {},
   "source": [
    "## Scaling Data\n",
    "LSTM is very sensitive to the scale of data, for this reason i'm going to use StandardScaler to scaled `Close` column."
   ]
  },
  {
   "cell_type": "code",
   "execution_count": 22,
   "metadata": {},
   "outputs": [],
   "source": [
    "from sklearn.preprocessing import StandardScaler"
   ]
  },
  {
   "cell_type": "code",
   "execution_count": 23,
   "metadata": {},
   "outputs": [],
   "source": [
    "df_close = df['Close']\n",
    "scaler = StandardScaler()\n",
    "df_close = scaler.fit_transform(np.array(df_close).reshape(-1,1))"
   ]
  },
  {
   "cell_type": "code",
   "execution_count": 26,
   "metadata": {},
   "outputs": [
    {
     "data": {
      "text/plain": [
       "array([[-0.31215158],\n",
       "       [-0.278963  ],\n",
       "       [-0.14925326],\n",
       "       [ 0.22402746],\n",
       "       [ 0.62167176]])"
      ]
     },
     "execution_count": 26,
     "metadata": {},
     "output_type": "execute_result"
    }
   ],
   "source": [
    "df_close[:5]"
   ]
  },
  {
   "cell_type": "markdown",
   "metadata": {},
   "source": [
    "## Train/Test Split\n",
    "Since we are working with time series forecasting we can't split our data randomly, we need to keep the same data order when making the split. "
   ]
  },
  {
   "cell_type": "code",
   "execution_count": 27,
   "metadata": {},
   "outputs": [],
   "source": [
    "train_size = int(len(df_close)*0.7)\n",
    "test_size = int(len(df_close)-train_size)\n",
    "train, test = df_close[0:train_size, :], df_close[train_size:len(df_close), :]"
   ]
  },
  {
   "cell_type": "code",
   "execution_count": 29,
   "metadata": {},
   "outputs": [
    {
     "name": "stdout",
     "output_type": "stream",
     "text": [
      "---- Train/Test Shape ----\n",
      "Train: 176\n",
      "Test: 76\n"
     ]
    }
   ],
   "source": [
    "print(\"---- Train/Test Shape ----\")\n",
    "print(\"Train:\", len(train))\n",
    "print(\"Test:\", len(test))"
   ]
  },
  {
   "cell_type": "code",
   "execution_count": 38,
   "metadata": {},
   "outputs": [],
   "source": [
    "def create_dataset(dataset, time_step=1):\n",
    "    dataX, dataY = [], []\n",
    "    for i in range(len(dataset)-time_step-1):\n",
    "        a = dataset[i:(i+time_step),0]\n",
    "        dataX.append(a)\n",
    "        dataY.append(dataset[i+time_step, 0])\n",
    "    return np.array(dataX), np.array(dataY)"
   ]
  },
  {
   "cell_type": "code",
   "execution_count": 137,
   "metadata": {},
   "outputs": [],
   "source": [
    "time_step = 5\n",
    "X_train, y_train = create_dataset(train, time_step)\n",
    "X_test, y_test = create_dataset(test, time_step)"
   ]
  },
  {
   "cell_type": "code",
   "execution_count": 138,
   "metadata": {},
   "outputs": [
    {
     "name": "stdout",
     "output_type": "stream",
     "text": [
      "X_train shape: (170, 5)\n",
      "y_train shape: (170,)\n"
     ]
    }
   ],
   "source": [
    "print(\"X_train shape:\",X_train.shape)\n",
    "print(\"y_train shape:\", y_train.shape)"
   ]
  },
  {
   "cell_type": "code",
   "execution_count": 139,
   "metadata": {},
   "outputs": [
    {
     "name": "stdout",
     "output_type": "stream",
     "text": [
      "X_test shape: (70, 5)\n",
      "y_test shape: (70,)\n"
     ]
    }
   ],
   "source": [
    "print(\"X_test shape:\",X_test.shape)\n",
    "print(\"y_test shape:\", y_test.shape)"
   ]
  },
  {
   "cell_type": "markdown",
   "metadata": {},
   "source": [
    "Reshape input to be [samples, time_steps, features] which is required for LSTM."
   ]
  },
  {
   "cell_type": "code",
   "execution_count": 140,
   "metadata": {},
   "outputs": [],
   "source": [
    "X_train = X_train.reshape(X_train.shape[0], X_train.shape[1], 1)\n",
    "X_test = X_test.reshape(X_test.shape[0], X_test.shape[1], 1)"
   ]
  },
  {
   "cell_type": "markdown",
   "metadata": {},
   "source": [
    "## Create LSTM Model"
   ]
  },
  {
   "cell_type": "code",
   "execution_count": 127,
   "metadata": {},
   "outputs": [],
   "source": [
    "from tensorflow.keras.models import Sequential\n",
    "from tensorflow.keras.layers import Dense, LSTM"
   ]
  },
  {
   "cell_type": "code",
   "execution_count": 141,
   "metadata": {},
   "outputs": [],
   "source": [
    "model = Sequential([\n",
    "    LSTM(50, return_sequences=True, input_shape=(5,1)),\n",
    "    LSTM(50, return_sequences=True),\n",
    "    LSTM(50),\n",
    "    Dense(1)\n",
    "])"
   ]
  },
  {
   "cell_type": "code",
   "execution_count": 142,
   "metadata": {},
   "outputs": [],
   "source": [
    "model.compile(loss='mean_squared_error', optimizer='adam')"
   ]
  },
  {
   "cell_type": "code",
   "execution_count": 131,
   "metadata": {},
   "outputs": [
    {
     "name": "stdout",
     "output_type": "stream",
     "text": [
      "Model: \"sequential_3\"\n",
      "_________________________________________________________________\n",
      " Layer (type)                Output Shape              Param #   \n",
      "=================================================================\n",
      " lstm_9 (LSTM)               (None, 50, 50)            10400     \n",
      "                                                                 \n",
      " lstm_10 (LSTM)              (None, 50, 50)            20200     \n",
      "                                                                 \n",
      " lstm_11 (LSTM)              (None, 50)                20200     \n",
      "                                                                 \n",
      " dense_3 (Dense)             (None, 1)                 51        \n",
      "                                                                 \n",
      "=================================================================\n",
      "Total params: 50,851\n",
      "Trainable params: 50,851\n",
      "Non-trainable params: 0\n",
      "_________________________________________________________________\n"
     ]
    }
   ],
   "source": [
    "model.summary()"
   ]
  },
  {
   "cell_type": "code",
   "execution_count": 143,
   "metadata": {},
   "outputs": [
    {
     "name": "stdout",
     "output_type": "stream",
     "text": [
      "Epoch 1/100\n",
      "3/3 [==============================] - 4s 393ms/step - loss: 0.4737 - val_loss: 2.1975\n",
      "Epoch 2/100\n",
      "3/3 [==============================] - 0s 16ms/step - loss: 0.3940 - val_loss: 2.0985\n",
      "Epoch 3/100\n",
      "3/3 [==============================] - 0s 16ms/step - loss: 0.3153 - val_loss: 1.9876\n",
      "Epoch 4/100\n",
      "3/3 [==============================] - 0s 17ms/step - loss: 0.2231 - val_loss: 1.8583\n",
      "Epoch 5/100\n",
      "3/3 [==============================] - 0s 18ms/step - loss: 0.1330 - val_loss: 1.7117\n",
      "Epoch 6/100\n",
      "3/3 [==============================] - 0s 17ms/step - loss: 0.0918 - val_loss: 1.5674\n",
      "Epoch 7/100\n",
      "3/3 [==============================] - 0s 17ms/step - loss: 0.1140 - val_loss: 1.4799\n",
      "Epoch 8/100\n",
      "3/3 [==============================] - 0s 16ms/step - loss: 0.1037 - val_loss: 1.4455\n",
      "Epoch 9/100\n",
      "3/3 [==============================] - 0s 17ms/step - loss: 0.0774 - val_loss: 1.4234\n",
      "Epoch 10/100\n",
      "3/3 [==============================] - 0s 16ms/step - loss: 0.0746 - val_loss: 1.3821\n",
      "Epoch 11/100\n",
      "3/3 [==============================] - 0s 16ms/step - loss: 0.0769 - val_loss: 1.3059\n",
      "Epoch 12/100\n",
      "3/3 [==============================] - 0s 17ms/step - loss: 0.0720 - val_loss: 1.2005\n",
      "Epoch 13/100\n",
      "3/3 [==============================] - 0s 17ms/step - loss: 0.0620 - val_loss: 1.0867\n",
      "Epoch 14/100\n",
      "3/3 [==============================] - 0s 16ms/step - loss: 0.0571 - val_loss: 0.9813\n",
      "Epoch 15/100\n",
      "3/3 [==============================] - 0s 18ms/step - loss: 0.0556 - val_loss: 0.9062\n",
      "Epoch 16/100\n",
      "3/3 [==============================] - 0s 17ms/step - loss: 0.0534 - val_loss: 0.8476\n",
      "Epoch 17/100\n",
      "3/3 [==============================] - 0s 16ms/step - loss: 0.0502 - val_loss: 0.8052\n",
      "Epoch 18/100\n",
      "3/3 [==============================] - 0s 17ms/step - loss: 0.0491 - val_loss: 0.7535\n",
      "Epoch 19/100\n",
      "3/3 [==============================] - 0s 15ms/step - loss: 0.0488 - val_loss: 0.6983\n",
      "Epoch 20/100\n",
      "3/3 [==============================] - 0s 16ms/step - loss: 0.0483 - val_loss: 0.6373\n",
      "Epoch 21/100\n",
      "3/3 [==============================] - 0s 16ms/step - loss: 0.0481 - val_loss: 0.5861\n",
      "Epoch 22/100\n",
      "3/3 [==============================] - 0s 16ms/step - loss: 0.0474 - val_loss: 0.5555\n",
      "Epoch 23/100\n",
      "3/3 [==============================] - 0s 16ms/step - loss: 0.0472 - val_loss: 0.5371\n",
      "Epoch 24/100\n",
      "3/3 [==============================] - 0s 18ms/step - loss: 0.0472 - val_loss: 0.5201\n",
      "Epoch 25/100\n",
      "3/3 [==============================] - 0s 16ms/step - loss: 0.0470 - val_loss: 0.4986\n",
      "Epoch 26/100\n",
      "3/3 [==============================] - 0s 15ms/step - loss: 0.0471 - val_loss: 0.4800\n",
      "Epoch 27/100\n",
      "3/3 [==============================] - 0s 16ms/step - loss: 0.0464 - val_loss: 0.4690\n",
      "Epoch 28/100\n",
      "3/3 [==============================] - 0s 15ms/step - loss: 0.0463 - val_loss: 0.4645\n",
      "Epoch 29/100\n",
      "3/3 [==============================] - 0s 16ms/step - loss: 0.0461 - val_loss: 0.4544\n",
      "Epoch 30/100\n",
      "3/3 [==============================] - 0s 15ms/step - loss: 0.0458 - val_loss: 0.4449\n",
      "Epoch 31/100\n",
      "3/3 [==============================] - 0s 17ms/step - loss: 0.0457 - val_loss: 0.4309\n",
      "Epoch 32/100\n",
      "3/3 [==============================] - 0s 15ms/step - loss: 0.0456 - val_loss: 0.4180\n",
      "Epoch 33/100\n",
      "3/3 [==============================] - 0s 15ms/step - loss: 0.0455 - val_loss: 0.4094\n",
      "Epoch 34/100\n",
      "3/3 [==============================] - 0s 15ms/step - loss: 0.0455 - val_loss: 0.3981\n",
      "Epoch 35/100\n",
      "3/3 [==============================] - 0s 15ms/step - loss: 0.0453 - val_loss: 0.3822\n",
      "Epoch 36/100\n",
      "3/3 [==============================] - 0s 16ms/step - loss: 0.0452 - val_loss: 0.3699\n",
      "Epoch 37/100\n",
      "3/3 [==============================] - 0s 16ms/step - loss: 0.0450 - val_loss: 0.3601\n",
      "Epoch 38/100\n",
      "3/3 [==============================] - 0s 16ms/step - loss: 0.0451 - val_loss: 0.3508\n",
      "Epoch 39/100\n",
      "3/3 [==============================] - 0s 16ms/step - loss: 0.0448 - val_loss: 0.3438\n",
      "Epoch 40/100\n",
      "3/3 [==============================] - 0s 15ms/step - loss: 0.0449 - val_loss: 0.3381\n",
      "Epoch 41/100\n",
      "3/3 [==============================] - 0s 16ms/step - loss: 0.0447 - val_loss: 0.3260\n",
      "Epoch 42/100\n",
      "3/3 [==============================] - 0s 15ms/step - loss: 0.0444 - val_loss: 0.3187\n",
      "Epoch 43/100\n",
      "3/3 [==============================] - 0s 15ms/step - loss: 0.0447 - val_loss: 0.3153\n",
      "Epoch 44/100\n",
      "3/3 [==============================] - 0s 15ms/step - loss: 0.0445 - val_loss: 0.3190\n",
      "Epoch 45/100\n",
      "3/3 [==============================] - 0s 16ms/step - loss: 0.0442 - val_loss: 0.3243\n",
      "Epoch 46/100\n",
      "3/3 [==============================] - 0s 15ms/step - loss: 0.0442 - val_loss: 0.3194\n",
      "Epoch 47/100\n",
      "3/3 [==============================] - 0s 16ms/step - loss: 0.0440 - val_loss: 0.3127\n",
      "Epoch 48/100\n",
      "3/3 [==============================] - 0s 15ms/step - loss: 0.0438 - val_loss: 0.3083\n",
      "Epoch 49/100\n",
      "3/3 [==============================] - 0s 16ms/step - loss: 0.0436 - val_loss: 0.3058\n",
      "Epoch 50/100\n",
      "3/3 [==============================] - 0s 15ms/step - loss: 0.0435 - val_loss: 0.3042\n",
      "Epoch 51/100\n",
      "3/3 [==============================] - 0s 16ms/step - loss: 0.0434 - val_loss: 0.3026\n",
      "Epoch 52/100\n",
      "3/3 [==============================] - 0s 15ms/step - loss: 0.0432 - val_loss: 0.2988\n",
      "Epoch 53/100\n",
      "3/3 [==============================] - 0s 17ms/step - loss: 0.0430 - val_loss: 0.2948\n",
      "Epoch 54/100\n",
      "3/3 [==============================] - 0s 16ms/step - loss: 0.0429 - val_loss: 0.2906\n",
      "Epoch 55/100\n",
      "3/3 [==============================] - 0s 16ms/step - loss: 0.0428 - val_loss: 0.2865\n",
      "Epoch 56/100\n",
      "3/3 [==============================] - 0s 16ms/step - loss: 0.0427 - val_loss: 0.2927\n",
      "Epoch 57/100\n",
      "3/3 [==============================] - 0s 16ms/step - loss: 0.0424 - val_loss: 0.2935\n",
      "Epoch 58/100\n",
      "3/3 [==============================] - 0s 18ms/step - loss: 0.0422 - val_loss: 0.2936\n",
      "Epoch 59/100\n",
      "3/3 [==============================] - 0s 18ms/step - loss: 0.0422 - val_loss: 0.2953\n",
      "Epoch 60/100\n",
      "3/3 [==============================] - 0s 18ms/step - loss: 0.0419 - val_loss: 0.2879\n",
      "Epoch 61/100\n",
      "3/3 [==============================] - 0s 17ms/step - loss: 0.0417 - val_loss: 0.2852\n",
      "Epoch 62/100\n",
      "3/3 [==============================] - 0s 19ms/step - loss: 0.0414 - val_loss: 0.2856\n",
      "Epoch 63/100\n",
      "3/3 [==============================] - 0s 17ms/step - loss: 0.0413 - val_loss: 0.2860\n",
      "Epoch 64/100\n",
      "3/3 [==============================] - 0s 17ms/step - loss: 0.0412 - val_loss: 0.2843\n",
      "Epoch 65/100\n",
      "3/3 [==============================] - 0s 17ms/step - loss: 0.0410 - val_loss: 0.2719\n",
      "Epoch 66/100\n",
      "3/3 [==============================] - 0s 18ms/step - loss: 0.0407 - val_loss: 0.2763\n",
      "Epoch 67/100\n",
      "3/3 [==============================] - 0s 16ms/step - loss: 0.0404 - val_loss: 0.2802\n",
      "Epoch 68/100\n",
      "3/3 [==============================] - 0s 16ms/step - loss: 0.0401 - val_loss: 0.2802\n",
      "Epoch 69/100\n",
      "3/3 [==============================] - 0s 16ms/step - loss: 0.0400 - val_loss: 0.2869\n",
      "Epoch 70/100\n",
      "3/3 [==============================] - 0s 16ms/step - loss: 0.0395 - val_loss: 0.2856\n",
      "Epoch 71/100\n",
      "3/3 [==============================] - 0s 15ms/step - loss: 0.0393 - val_loss: 0.2871\n",
      "Epoch 72/100\n",
      "3/3 [==============================] - 0s 16ms/step - loss: 0.0389 - val_loss: 0.2882\n",
      "Epoch 73/100\n",
      "3/3 [==============================] - 0s 15ms/step - loss: 0.0385 - val_loss: 0.2911\n",
      "Epoch 74/100\n",
      "3/3 [==============================] - 0s 16ms/step - loss: 0.0383 - val_loss: 0.2857\n",
      "Epoch 75/100\n",
      "3/3 [==============================] - 0s 15ms/step - loss: 0.0380 - val_loss: 0.2806\n",
      "Epoch 76/100\n",
      "3/3 [==============================] - 0s 15ms/step - loss: 0.0374 - val_loss: 0.2738\n",
      "Epoch 77/100\n",
      "3/3 [==============================] - 0s 17ms/step - loss: 0.0370 - val_loss: 0.2744\n",
      "Epoch 78/100\n",
      "3/3 [==============================] - 0s 14ms/step - loss: 0.0366 - val_loss: 0.2768\n",
      "Epoch 79/100\n",
      "3/3 [==============================] - 0s 15ms/step - loss: 0.0363 - val_loss: 0.2819\n",
      "Epoch 80/100\n",
      "3/3 [==============================] - 0s 15ms/step - loss: 0.0356 - val_loss: 0.2754\n",
      "Epoch 81/100\n",
      "3/3 [==============================] - 0s 17ms/step - loss: 0.0352 - val_loss: 0.2752\n",
      "Epoch 82/100\n",
      "3/3 [==============================] - 0s 16ms/step - loss: 0.0349 - val_loss: 0.2910\n",
      "Epoch 83/100\n",
      "3/3 [==============================] - 0s 15ms/step - loss: 0.0341 - val_loss: 0.2860\n",
      "Epoch 84/100\n",
      "3/3 [==============================] - 0s 16ms/step - loss: 0.0334 - val_loss: 0.2791\n",
      "Epoch 85/100\n",
      "3/3 [==============================] - 0s 16ms/step - loss: 0.0326 - val_loss: 0.2752\n",
      "Epoch 86/100\n",
      "3/3 [==============================] - 0s 16ms/step - loss: 0.0322 - val_loss: 0.2725\n",
      "Epoch 87/100\n",
      "3/3 [==============================] - 0s 16ms/step - loss: 0.0315 - val_loss: 0.2647\n",
      "Epoch 88/100\n",
      "3/3 [==============================] - 0s 17ms/step - loss: 0.0311 - val_loss: 0.2812\n",
      "Epoch 89/100\n",
      "3/3 [==============================] - 0s 16ms/step - loss: 0.0315 - val_loss: 0.2886\n",
      "Epoch 90/100\n",
      "3/3 [==============================] - 0s 15ms/step - loss: 0.0308 - val_loss: 0.2771\n",
      "Epoch 91/100\n",
      "3/3 [==============================] - 0s 15ms/step - loss: 0.0291 - val_loss: 0.3048\n",
      "Epoch 92/100\n",
      "3/3 [==============================] - 0s 15ms/step - loss: 0.0303 - val_loss: 0.3032\n",
      "Epoch 93/100\n",
      "3/3 [==============================] - 0s 16ms/step - loss: 0.0298 - val_loss: 0.2909\n",
      "Epoch 94/100\n",
      "3/3 [==============================] - 0s 15ms/step - loss: 0.0270 - val_loss: 0.3103\n",
      "Epoch 95/100\n",
      "3/3 [==============================] - 0s 15ms/step - loss: 0.0285 - val_loss: 0.2966\n",
      "Epoch 96/100\n",
      "3/3 [==============================] - 0s 15ms/step - loss: 0.0269 - val_loss: 0.2911\n",
      "Epoch 97/100\n",
      "3/3 [==============================] - 0s 15ms/step - loss: 0.0264 - val_loss: 0.3061\n",
      "Epoch 98/100\n",
      "3/3 [==============================] - 0s 15ms/step - loss: 0.0270 - val_loss: 0.2940\n",
      "Epoch 99/100\n",
      "3/3 [==============================] - 0s 15ms/step - loss: 0.0260 - val_loss: 0.3143\n",
      "Epoch 100/100\n",
      "3/3 [==============================] - 0s 15ms/step - loss: 0.0247 - val_loss: 0.3199\n"
     ]
    }
   ],
   "source": [
    "history = model.fit(X_train, y_train, validation_data=(X_test, y_test), epochs=100, batch_size=64, verbose=1)"
   ]
  },
  {
   "cell_type": "code",
   "execution_count": 144,
   "metadata": {},
   "outputs": [
    {
     "data": {
      "image/png": "[encoded data removed]",
      "text/plain": [
       "<Figure size 432x288 with 1 Axes>"
      ]
     },
     "metadata": {},
     "output_type": "display_data"
    }
   ],
   "source": [
    "plt.plot(history.history['loss'], label='Loss')\n",
    "plt.plot(history.history['val_loss'], label='Val Loss')\n",
    "plt.legend(loc='best')\n",
    "plt.show()"
   ]
  },
  {
   "cell_type": "code",
   "execution_count": 83,
   "metadata": {},
   "outputs": [],
   "source": [
    "import tensorflow as tf"
   ]
  },
  {
   "cell_type": "markdown",
   "metadata": {},
   "source": [
    "Let's do the predictions and check performance metrics"
   ]
  },
  {
   "cell_type": "code",
   "execution_count": 145,
   "metadata": {},
   "outputs": [],
   "source": [
    "train_predict = model.predict(X_train)\n",
    "test_predict = model.predict(X_test)"
   ]
  },
  {
   "cell_type": "markdown",
   "metadata": {},
   "source": [
    "Transform the prediction to original form"
   ]
  },
  {
   "cell_type": "code",
   "execution_count": 146,
   "metadata": {},
   "outputs": [],
   "source": [
    "train_predict = scaler.inverse_transform(train_predict)\n",
    "test_predict = scaler.inverse_transform(test_predict)"
   ]
  },
  {
   "cell_type": "markdown",
   "metadata": {},
   "source": [
    "Calculate Root Mean Squared Error (RMSE)"
   ]
  },
  {
   "cell_type": "code",
   "execution_count": 147,
   "metadata": {},
   "outputs": [
    {
     "name": "stdout",
     "output_type": "stream",
     "text": [
      "Train RMSE: 699.1489213328733\n",
      "Test RMSE: 923.6633336413497\n"
     ]
    }
   ],
   "source": [
    "import math\n",
    "from sklearn.metrics import mean_squared_error\n",
    "print(\"Train RMSE:\",(math.sqrt(mean_squared_error(y_train, train_predict))))\n",
    "print(\"Test RMSE:\",(math.sqrt(mean_squared_error(y_test, test_predict))))"
   ]
  },
  {
   "cell_type": "markdown",
   "metadata": {},
   "source": [
    "Plotting Predictions"
   ]
  },
  {
   "cell_type": "code",
   "execution_count": 149,
   "metadata": {},
   "outputs": [
    {
     "data": {
      "image/png": "[encoded data removed]",
      "text/plain": [
       "<Figure size 936x504 with 1 Axes>"
      ]
     },
     "metadata": {},
     "output_type": "display_data"
    }
   ],
   "source": [
    "plt.figure(figsize=([13,7]))\n",
    "look_back=5\n",
    "trainPredictPlot = np.empty_like(df_close)\n",
    "trainPredictPlot[:, :] = np.nan\n",
    "trainPredictPlot[look_back:len(train_predict)+look_back, :] = train_predict\n",
    "# shift test predictions for plotting\n",
    "testPredictPlot = np.empty_like(df_close)\n",
    "testPredictPlot[:, :] = np.nan\n",
    "testPredictPlot[len(train_predict)+(look_back*2)+1:len(df_close)-1, :] = test_predict\n",
    "# plot baseline and predictions\n",
    "plt.plot(scaler.inverse_transform(df_close), label='Original')\n",
    "plt.plot(trainPredictPlot, label='Train Pred')\n",
    "plt.plot(testPredictPlot, label='Test Pred')\n",
    "plt.legend(loc='best')\n",
    "plt.show()"
   ]
  },
  {
   "cell_type": "markdown",
   "metadata": {},
   "source": [
    "It's a very good result considering that we have a very low number of data (253 observations). We can improve the model if we try to get more data about the stock for example data from 3 year or 1 year but for each hour."
   ]
  },
  {
   "cell_type": "markdown",
   "metadata": {},
   "source": [
    "## Predict the next 30 days stock price"
   ]
  },
  {
   "cell_type": "markdown",
   "metadata": {},
   "source": [
    "We train the model with the previous 10 days (time_steps). So to predict future days we need to take in count the previous 10 days."
   ]
  },
  {
   "cell_type": "code",
   "execution_count": 150,
   "metadata": {},
   "outputs": [
    {
     "data": {
      "text/plain": [
       "76"
      ]
     },
     "execution_count": 150,
     "metadata": {},
     "output_type": "execute_result"
    }
   ],
   "source": [
    "len(test)"
   ]
  },
  {
   "cell_type": "code",
   "execution_count": 151,
   "metadata": {},
   "outputs": [
    {
     "data": {
      "text/plain": [
       "(1, 5)"
      ]
     },
     "execution_count": 151,
     "metadata": {},
     "output_type": "execute_result"
    }
   ],
   "source": [
    "x_input = test[71:].reshape(1,-1)\n",
    "x_input.shape"
   ]
  },
  {
   "cell_type": "code",
   "execution_count": 152,
   "metadata": {},
   "outputs": [],
   "source": [
    "temp_input = list(x_input)\n",
    "temp_input = temp_input[0].tolist()"
   ]
  },
  {
   "cell_type": "code",
   "execution_count": 153,
   "metadata": {},
   "outputs": [
    {
     "name": "stdout",
     "output_type": "stream",
     "text": [
      "[1.4203448]\n",
      "6\n",
      "1 day input [1.91721537 1.90304469 1.80453503 1.72025825 1.42034483]\n",
      "1 day output [[1.3919095]]\n",
      "2 day input [1.90304469 1.80453503 1.72025825 1.42034483 1.39190948]\n",
      "2 day output [[1.3434591]]\n",
      "3 day input [1.80453503 1.72025825 1.42034483 1.39190948 1.34345913]\n",
      "3 day output [[1.2699826]]\n",
      "4 day input [1.72025825 1.42034483 1.39190948 1.34345913 1.26998258]\n",
      "4 day output [[1.1880946]]\n",
      "5 day input [1.42034483 1.39190948 1.34345913 1.26998258 1.18809462]\n",
      "5 day output [[1.1168209]]\n",
      "6 day input [1.39190948 1.34345913 1.26998258 1.18809462 1.11682093]\n",
      "6 day output [[1.0804254]]\n",
      "7 day input [1.34345913 1.26998258 1.18809462 1.11682093 1.08042538]\n",
      "7 day output [[1.0346026]]\n",
      "8 day input [1.26998258 1.18809462 1.11682093 1.08042538 1.03460264]\n",
      "8 day output [[0.98620826]]\n",
      "9 day input [1.18809462 1.11682093 1.08042538 1.03460264 0.98620826]\n",
      "9 day output [[0.94288296]]\n",
      "10 day input [1.11682093 1.08042538 1.03460264 0.98620826 0.94288296]\n",
      "10 day output [[0.9065728]]\n",
      "11 day input [1.08042538 1.03460264 0.98620826 0.94288296 0.90657282]\n",
      "11 day output [[0.8736063]]\n",
      "12 day input [1.03460264 0.98620826 0.94288296 0.90657282 0.87360632]\n",
      "12 day output [[0.83979934]]\n",
      "13 day input [0.98620826 0.94288296 0.90657282 0.87360632 0.83979934]\n",
      "13 day output [[0.8080255]]\n",
      "14 day input [0.94288296 0.90657282 0.87360632 0.83979934 0.80802548]\n",
      "14 day output [[0.7790068]]\n",
      "15 day input [0.90657282 0.87360632 0.83979934 0.80802548 0.77900678]\n",
      "15 day output [[0.75179136]]\n",
      "16 day input [0.87360632 0.83979934 0.80802548 0.77900678 0.75179136]\n",
      "16 day output [[0.72549117]]\n",
      "17 day input [0.83979934 0.80802548 0.77900678 0.75179136 0.72549117]\n",
      "17 day output [[0.700154]]\n",
      "18 day input [0.80802548 0.77900678 0.75179136 0.72549117 0.70015401]\n",
      "18 day output [[0.67614853]]\n",
      "19 day input [0.77900678 0.75179136 0.72549117 0.70015401 0.67614853]\n",
      "19 day output [[0.65322405]]\n",
      "20 day input [0.75179136 0.72549117 0.70015401 0.67614853 0.65322405]\n",
      "20 day output [[0.6310912]]\n",
      "21 day input [0.72549117 0.70015401 0.67614853 0.65322405 0.63109118]\n",
      "21 day output [[0.609679]]\n",
      "22 day input [0.70015401 0.67614853 0.65322405 0.63109118 0.60967898]\n",
      "22 day output [[0.5890041]]\n",
      "23 day input [0.67614853 0.65322405 0.63109118 0.60967898 0.5890041 ]\n",
      "23 day output [[0.5690037]]\n",
      "24 day input [0.65322405 0.63109118 0.60967898 0.5890041  0.5690037 ]\n",
      "24 day output [[0.5495656]]\n",
      "25 day input [0.63109118 0.60967898 0.5890041  0.5690037  0.54956561]\n",
      "25 day output [[0.5306286]]\n",
      "26 day input [0.60967898 0.5890041  0.5690037  0.54956561 0.53062862]\n",
      "26 day output [[0.51216143]]\n",
      "27 day input [0.5890041  0.5690037  0.54956561 0.53062862 0.51216143]\n",
      "27 day output [[0.49412158]]\n",
      "28 day input [0.5690037  0.54956561 0.53062862 0.51216143 0.49412158]\n",
      "28 day output [[0.47645766]]\n",
      "29 day input [0.54956561 0.53062862 0.51216143 0.49412158 0.47645766]\n",
      "29 day output [[0.45912704]]\n",
      "[[1.4203448295593262], [1.3919094800949097], [1.343459129333496], [1.2699825763702393], [1.1880946159362793], [1.1168209314346313], [1.0804253816604614], [1.0346026420593262], [0.9862082600593567], [0.9428829550743103], [0.9065728187561035], [0.8736063241958618], [0.8397993445396423], [0.8080254793167114], [0.7790067791938782], [0.7517913579940796], [0.7254911661148071], [0.7001540064811707], [0.676148533821106], [0.6532240509986877], [0.6310911774635315], [0.6096789836883545], [0.5890040993690491], [0.569003701210022], [0.5495656132698059], [0.5306286215782166], [0.5121614336967468], [0.49412158131599426], [0.4764576554298401], [0.4591270387172699]]\n"
     ]
    }
   ],
   "source": [
    "lst_output=[]\n",
    "n_steps=5\n",
    "i=0\n",
    "while(i<30):\n",
    "    \n",
    "    if(len(temp_input)>5):\n",
    "        #print(temp_input)\n",
    "        x_input=np.array(temp_input[1:])\n",
    "        print(\"{} day input {}\".format(i,x_input))\n",
    "        x_input=x_input.reshape(1,-1)\n",
    "        x_input = x_input.reshape((1, n_steps, 1))\n",
    "        #print(x_input)\n",
    "        yhat = model.predict(x_input, verbose=0)\n",
    "        print(\"{} day output {}\".format(i,yhat))\n",
    "        temp_input.extend(yhat[0].tolist())\n",
    "        temp_input=temp_input[1:]\n",
    "        #print(temp_input)\n",
    "        lst_output.extend(yhat.tolist())\n",
    "        i=i+1\n",
    "    else:\n",
    "        x_input = x_input.reshape((1, n_steps,1))\n",
    "        yhat = model.predict(x_input, verbose=0)\n",
    "        print(yhat[0])\n",
    "        temp_input.extend(yhat[0].tolist())\n",
    "        print(len(temp_input))\n",
    "        lst_output.extend(yhat.tolist())\n",
    "        i=i+1\n",
    "    \n",
    "\n",
    "print(lst_output)"
   ]
  },
  {
   "cell_type": "code",
   "execution_count": 161,
   "metadata": {},
   "outputs": [],
   "source": [
    "day_new=np.arange(1,31)\n",
    "day_pred=np.arange(31,61)"
   ]
  },
  {
   "cell_type": "code",
   "execution_count": 158,
   "metadata": {},
   "outputs": [
    {
     "data": {
      "text/plain": [
       "252"
      ]
     },
     "execution_count": 158,
     "metadata": {},
     "output_type": "execute_result"
    }
   ],
   "source": [
    "len(df_close)"
   ]
  },
  {
   "cell_type": "code",
   "execution_count": 163,
   "metadata": {},
   "outputs": [
    {
     "data": {
      "text/plain": [
       "[<matplotlib.lines.Line2D at 0x23a232ebe80>]"
      ]
     },
     "execution_count": 163,
     "metadata": {},
     "output_type": "execute_result"
    },
    {
     "data": {
      "image/png": "[encoded data removed]",
      "text/plain": [
       "<Figure size 432x288 with 1 Axes>"
      ]
     },
     "metadata": {},
     "output_type": "display_data"
    }
   ],
   "source": [
    "plt.plot(day_new,scaler.inverse_transform(df_close[222:]))\n",
    "plt.plot(day_pred,scaler.inverse_transform(lst_output))"
   ]
  }
 ],
 "metadata": {
  "interpreter": {
   "hash": "05c301ae3935bdf3a011898b99fb0962dfb54056c49083c4a1681d76fff07cd2"
  },
  "kernelspec": {
   "display_name": "Python 3.8.8 64-bit ('base': conda)",
   "language": "python",
   "name": "python3"
  },
  "language_info": {
   "codemirror_mode": {
    "name": "ipython",
    "version": 3
   },
   "file_extension": ".py",
   "mimetype": "text/x-python",
   "name": "python",
   "nbconvert_exporter": "python",
   "pygments_lexer": "ipython3",
   "version": "3.8.8"
  },
  "orig_nbformat": 4
 },
 "nbformat": 4,
 "nbformat_minor": 2
}
